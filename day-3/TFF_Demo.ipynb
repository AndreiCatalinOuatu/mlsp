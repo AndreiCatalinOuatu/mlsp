{
  "nbformat": 4,
  "nbformat_minor": 0,
  "metadata": {
    "colab": {
      "provenance": []
    },
    "kernelspec": {
      "name": "python3",
      "display_name": "Python 3"
    },
    "language_info": {
      "name": "python"
    }
  },
  "cells": [
    {
      "cell_type": "code",
      "execution_count": null,
      "metadata": {
        "id": "P7eVjGqntQSt"
      },
      "outputs": [],
      "source": [
        "!pip install tensorflow\n",
        "!pip install tensorflow-federated"
      ]
    },
    {
      "cell_type": "code",
      "source": [
        "import collections\n",
        "\n",
        "import numpy as np\n",
        "import tensorflow as tf\n",
        "import tensorflow_federated as tff\n",
        "\n",
        "np.random.seed(0)\n",
        "tff.federated_computation(lambda: \"Hello World!\")()"
      ],
      "metadata": {
        "id": "JFDCRh7ceguo"
      },
      "execution_count": null,
      "outputs": []
    },
    {
      "cell_type": "code",
      "source": [
        "# Load the dataset used in the Federated Learning process\n",
        "# Use a federated version of MNIST dataset; non-iid data as expected in federated env; each user has his unique style of writing\n",
        "# This dataset loading is used to create the datasets for each of the clients in the federated learning process\n",
        "emnist_train, emnist_test = tff.simulation.datasets.emnist.load_data() # load the simulation data together with the client ids; this interface works only in simulation mode"
      ],
      "metadata": {
        "id": "_WxbpxHBag5Y"
      },
      "execution_count": null,
      "outputs": []
    },
    {
      "cell_type": "code",
      "source": [
        "len(emnist_train.client_ids) # number of clients"
      ],
      "metadata": {
        "id": "3ffpLJpRflw1"
      },
      "execution_count": null,
      "outputs": []
    },
    {
      "cell_type": "code",
      "source": [
        "# Explore the size of the data by looking at the shape of some client data\n",
        "example_dataset = emnist_train.create_tf_dataset_for_client(\n",
        "    emnist_train.client_ids[0]\n",
        ")\n",
        "\n",
        "example_dataset.element_spec # Gives the structure of one entry from the MNIST dataset"
      ],
      "metadata": {
        "id": "4PH5foatgLQo"
      },
      "execution_count": null,
      "outputs": []
    },
    {
      "cell_type": "code",
      "source": [
        "# Select an element from the dataset of one of our own simulated clients\n",
        "example_element = next(iter(example_dataset))\n",
        "\n",
        "# Print the label of this element\n",
        "example_element['label'].numpy()"
      ],
      "metadata": {
        "id": "YivVi3CngCth"
      },
      "execution_count": null,
      "outputs": []
    },
    {
      "cell_type": "code",
      "source": [
        "from matplotlib import pyplot as plt\n",
        "from IPython.display import display, HTML, IFrame\n",
        "from skimage import io"
      ],
      "metadata": {
        "id": "ynPYUbOZhaU1"
      },
      "execution_count": null,
      "outputs": []
    },
    {
      "cell_type": "code",
      "source": [
        "# Plot the first 40 images from the first client dataset\n",
        "# In reality, this is impossible\n",
        "\n",
        "fig = plt.figure(figsize=(20,4))\n",
        "j = 0\n",
        "\n",
        "for digit in example_dataset.take(40):\n",
        "  plt.subplot(4, 10, j + 1)\n",
        "  plt.imshow(digit['pixels'].numpy(), cmap='gray', aspect='equal')\n",
        "  plt.axis('off')\n",
        "  j +=1"
      ],
      "metadata": {
        "collapsed": true,
        "id": "rCyoOC06hnpW"
      },
      "execution_count": null,
      "outputs": []
    },
    {
      "cell_type": "code",
      "source": [
        "# Plot the distribution of digits for the first six clients\n",
        "# This works just because we work in a simulated environment; in reality, only the user can see his data\n",
        "\n",
        "f = plt.figure(figsize=(12, 7))\n",
        "f.suptitle(\"Label Counts for a Sample of Clients\")\n",
        "\n",
        "for i in range(6):\n",
        "  ds = emnist_train.create_tf_dataset_for_client(emnist_train.client_ids[i])\n",
        "  k = collections.defaultdict(list)\n",
        "  for e in ds:\n",
        "    k[e['label'].numpy()].append(e['label'].numpy())\n",
        "  plt.subplot(2, 3, i + 1)\n",
        "  plt.title(\"Client {}\".format(i))\n",
        "  for j in range(10):\n",
        "    plt.hist(k[j], density=False, bins=[x for x in range(11)])"
      ],
      "metadata": {
        "id": "iU2kRoj-iCRf"
      },
      "execution_count": null,
      "outputs": []
    },
    {
      "cell_type": "code",
      "source": [
        "# Plot the digit mean images for each client to see how each local model learn about each digit\n",
        "for i in range(5):\n",
        "  ds = emnist_train.create_tf_dataset_for_client(emnist_train.client_ids[i])\n",
        "  k = collections.defaultdict(list)\n",
        "  for digit in ds:\n",
        "    k[digit['label'].numpy()].append(digit['pixels'].numpy())\n",
        "  f = plt.figure(i, figsize=(12, 5))\n",
        "  f.suptitle(\"Client #{}'s Mean Image Per Label\".format(i))\n",
        "  for j in range(10):\n",
        "    mn_img = np.mean(k[j], 0)\n",
        "    plt.subplot(2, 5, j + 1)\n",
        "    plt.imshow(mn_img.reshape(28, 28))\n",
        "    plt.axis(\"off\")"
      ],
      "metadata": {
        "id": "oR-Wb93EkQk1"
      },
      "execution_count": null,
      "outputs": []
    },
    {
      "cell_type": "code",
      "source": [
        "# Define the parameters of the Federated Learning setup\n",
        "NUM_CLIENTS = 10\n",
        "NUM_EPOCHS = 5\n",
        "BATCH_SIZE = 20\n",
        "SHUFFLE_BUFFER = 100\n",
        "PREFETCH_BUFFER = 10"
      ],
      "metadata": {
        "id": "M9gdO_sduvam"
      },
      "execution_count": null,
      "outputs": []
    },
    {
      "cell_type": "code",
      "source": [
        "# Preprocess the input data\n",
        "def preprocess(dataset):\n",
        "\n",
        "  def batch_format_fn(element):\n",
        "    return collections.OrderedDict(\n",
        "        x=tf.reshape(element['pixels'], [-1, 784]),\n",
        "        y=tf.reshape(element['label'], [-1, 1])\n",
        "    )\n",
        "  return dataset.repeat(NUM_EPOCHS).shuffle(SHUFFLE_BUFFER, seed=1).batch(\n",
        "      BATCH_SIZE).map(batch_format_fn).prefetch(PREFETCH_BUFFER)"
      ],
      "metadata": {
        "id": "z1M20fIxuv2P"
      },
      "execution_count": null,
      "outputs": []
    },
    {
      "cell_type": "code",
      "source": [
        "# Verify if the preprocessing function works by looking at the first batch,\n",
        "# converting all the tensorflow tensors inside the batch to numpy arrays\n",
        "\n",
        "preprocessed_example_dataset = preprocess(example_dataset)\n",
        "\n",
        "# Applies recursively the lambda function to each item in the nested structure\n",
        "# a.k.a to all the tensors inside of other tensors in the batch\n",
        "sample_batch = tf.nest.map_structure(lambda x: x.numpy(),\n",
        "                                     next(iter(preprocessed_example_dataset)))\n",
        "\n",
        "sample_batch"
      ],
      "metadata": {
        "id": "CPViO19afvUE"
      },
      "execution_count": null,
      "outputs": []
    },
    {
      "cell_type": "code",
      "source": [
        "# To be able to feed data to each client in the TFF simulation environment, we\n",
        "# create a list with each user dataset\n",
        "\n",
        "def make_federated_data(client_data, client_ids):\n",
        "  return [\n",
        "      preprocess(client_data.create_tf_dataset_for_client(x))\n",
        "      for x in client_ids\n",
        "  ]"
      ],
      "metadata": {
        "id": "j0TCGeOaiFw2"
      },
      "execution_count": null,
      "outputs": []
    },
    {
      "cell_type": "code",
      "source": [
        "# To choose the clients for our Federated Setup, we sample a random subset from\n",
        "# our clients set\n",
        "\n",
        "sample_clients = emnist_train.client_ids[0:NUM_CLIENTS]\n",
        "\n",
        "federated_train_data = make_federated_data(emnist_train, sample_clients)\n",
        "\n",
        "print(\"Number of client datasets: {}\".format(len(federated_train_data)))\n",
        "print(\"First dataset: {}\".format(federated_train_data[0]))"
      ],
      "metadata": {
        "id": "SJqlYGhjkKWr"
      },
      "execution_count": null,
      "outputs": []
    },
    {
      "cell_type": "code",
      "source": [
        "# Define the Keras NN used in image classification\n",
        "def create_keras_model():\n",
        "  return tf.keras.models.Sequential([\n",
        "      tf.keras.layers.InputLayer(input_shape=(784,)),\n",
        "      tf.keras.layers.Dense(10, kernel_initializer='zeros'),\n",
        "      tf.keras.layers.Softmax(),\n",
        "  ])"
      ],
      "metadata": {
        "id": "vnF86a6hlzJu"
      },
      "execution_count": null,
      "outputs": []
    },
    {
      "cell_type": "code",
      "source": [
        "# Wrap the Keras model in order to be used with Tensorflow Federated\n",
        "def model_fn():\n",
        "  keras_model = create_keras_model()\n",
        "  return tff.learning.models.from_keras_model(\n",
        "      keras_model,\n",
        "      input_spec=preprocessed_example_dataset.element_spec,\n",
        "      loss=tf.keras.losses.SparseCategoricalCrossentropy(),\n",
        "      metrics=[tf.keras.metrics.SparseCategoricalAccuracy()]\n",
        "  )"
      ],
      "metadata": {
        "id": "_uZVKA-_mVzD"
      },
      "execution_count": null,
      "outputs": []
    },
    {
      "cell_type": "code",
      "source": [
        "# Construct the Federated Averaging algorithm to train the model on federated data\n",
        "training_process = tff.learning.algorithms.build_weighted_fed_avg(\n",
        "    model_fn, # use the constructor so the model construction is controlled by TFF\n",
        "    client_optimizer_fn=lambda: tf.keras.optimizers.SGD(learning_rate=0.02), # used to compute local model updates on each client\n",
        "    server_optimizer_fn=lambda: tf.keras.optimizers.SGD(learning_rate=1.0) # applies the averaged update to the global model on the server\n",
        ")\n",
        "training_process # A learning process that is iterative and implements FedAvg"
      ],
      "metadata": {
        "id": "jpPPXOA_m3pO"
      },
      "execution_count": null,
      "outputs": []
    },
    {
      "cell_type": "code",
      "source": [
        "# Outputs the state of the Federated Averaging process on the server\n",
        "print(training_process.initialize.type_signature.formatted_representation())"
      ],
      "metadata": {
        "id": "govFgySCpYrT"
      },
      "execution_count": null,
      "outputs": []
    },
    {
      "cell_type": "code",
      "source": [
        "# Construct the server state and initialize the global model parameters\n",
        "train_state = training_process.initialize()\n",
        "train_state"
      ],
      "metadata": {
        "id": "nyeuCPtlp7X7"
      },
      "execution_count": null,
      "outputs": []
    },
    {
      "cell_type": "code",
      "source": [
        "# Run a single round (Global Model from server -> Client -> Training on Local Data -> Collect and Average the Model Updates -> Global Model Update at the Server)\n",
        "results = training_process.next(train_state, federated_train_data)\n",
        "# Capture the new state after the first round\n",
        "train_state = results.state\n",
        "print('Train state: {}'.format(train_state))\n",
        "# Capture the performance of the Federated Learning after one round\n",
        "train_metrics = results.metrics\n",
        "print('Round 1, metrics {}'.format(train_metrics))"
      ],
      "metadata": {
        "id": "oQL4M3gAqi6l"
      },
      "execution_count": null,
      "outputs": []
    },
    {
      "cell_type": "code",
      "source": [
        "# Run for more rounds\n",
        "NUM_ROUNDS = 10\n",
        "for round in range(2, NUM_ROUNDS):\n",
        "  results = training_process.next(train_state, federated_train_data)\n",
        "  train_state = results.state\n",
        "  print('Round {}, train state: {}'.format(round, train_state))\n",
        "  train_metrics = results.metrics\n",
        "  print('Round {}, train metrics: {}'.format(round, train_metrics) + '\\n')"
      ],
      "metadata": {
        "id": "q5vsVG_2rJ4m"
      },
      "execution_count": null,
      "outputs": []
    },
    {
      "cell_type": "code",
      "source": [],
      "metadata": {
        "id": "JzIdKpcpygLo"
      },
      "execution_count": null,
      "outputs": []
    }
  ]
}