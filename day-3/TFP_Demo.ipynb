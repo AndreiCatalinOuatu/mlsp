{
  "nbformat": 4,
  "nbformat_minor": 0,
  "metadata": {
    "colab": {
      "provenance": []
    },
    "kernelspec": {
      "name": "python3",
      "display_name": "Python 3"
    },
    "language_info": {
      "name": "python"
    }
  },
  "cells": [
    {
      "cell_type": "code",
      "execution_count": null,
      "metadata": {
        "id": "iVMr1YxT9iZO"
      },
      "outputs": [],
      "source": [
        "!pip install tensorflow\n",
        "!pip install tensorflow-privacy"
      ]
    },
    {
      "cell_type": "code",
      "source": [
        "import numpy as np\n",
        "import tensorflow as tf\n",
        "import tensorflow_privacy as tfp\n",
        "\n",
        "from matplotlib import pyplot as plt\n",
        "from IPython.display import display, HTML, IFrame"
      ],
      "metadata": {
        "id": "ztRfo-Mx9rem"
      },
      "execution_count": null,
      "outputs": []
    },
    {
      "cell_type": "code",
      "source": [
        "# Load the training and test datasets from the MNIST dataset\n",
        "train, test = tf.keras.datasets.mnist.load_data()\n",
        "train_data, train_labels = train\n",
        "test_data, test_labels = test"
      ],
      "metadata": {
        "id": "ow9QmC5o_rFv"
      },
      "execution_count": null,
      "outputs": []
    },
    {
      "cell_type": "code",
      "source": [
        "# Verify the shape of the training data\n",
        "# 60k training 28X28 images\n",
        "train_data.shape"
      ],
      "metadata": {
        "id": "20x5eoapAVXv"
      },
      "execution_count": null,
      "outputs": []
    },
    {
      "cell_type": "code",
      "source": [
        "train_labels.shape"
      ],
      "metadata": {
        "id": "tqYx5iInAbEQ"
      },
      "execution_count": null,
      "outputs": []
    },
    {
      "cell_type": "code",
      "source": [
        "# Plot some training examples from the MNIST dataset\n",
        "fig = plt.figure(figsize=(20,4))\n",
        "j = 0\n",
        "\n",
        "for i in range(40):\n",
        "  plt.subplot(4, 10, j + 1)\n",
        "  plt.imshow(train_data[i], cmap='gray', aspect='equal')\n",
        "  plt.axis('off')\n",
        "  j += 1"
      ],
      "metadata": {
        "id": "aC0ABg8XAsOU"
      },
      "execution_count": null,
      "outputs": []
    },
    {
      "cell_type": "code",
      "source": [
        "# Preprocess the MNIST data for training\n",
        "train_data = np.array(train_data, dtype=np.float32) / 255\n",
        "test_data = np.array(test_data, dtype=np.float32) / 255\n",
        "\n",
        "train_data = train_data.reshape(train_data.shape[0], 784)\n",
        "test_data = test_data.reshape(test_data.shape[0], 784)\n",
        "\n",
        "train_labels = np.array(train_labels, dtype=np.int32)\n",
        "test_labels = np.array(test_labels, dtype=np.int32)\n",
        "\n",
        "assert train_data.min() >= 0.\n",
        "assert train_data.max() <= 1.\n",
        "assert test_data.min() >= 0.\n",
        "assert test_data.max() <= 1."
      ],
      "metadata": {
        "id": "FdoDhtQxBI6I"
      },
      "execution_count": null,
      "outputs": []
    },
    {
      "cell_type": "code",
      "source": [
        "# Define the Hyperparameters of our DP model\n",
        "LR = 0.3\n",
        "EPOCHS = 100\n",
        "BATCH_SIZE = 250\n",
        "L2_NORM_CLIP = 20\n",
        "NOISE_MULTIPLIER = 0.1\n",
        "NUM_MICROBATCHES = 1\n",
        "\n",
        "if BATCH_SIZE % NUM_MICROBATCHES != 0:\n",
        "  raise ValueError('Batch size shoyld be multiple of the number of microbatches')"
      ],
      "metadata": {
        "id": "gClhNOxJCM3I"
      },
      "execution_count": null,
      "outputs": []
    },
    {
      "cell_type": "code",
      "source": [
        "# Construct the Keras NN used for classification\n",
        "model = tf.keras.models.Sequential([\n",
        "    tf.keras.layers.InputLayer(input_shape=(784,)),\n",
        "    tf.keras.layers.Dense(10, kernel_initializer='zeros'),\n",
        "    tf.keras.layers.Softmax()\n",
        "])"
      ],
      "metadata": {
        "id": "h4SEntatFpTt"
      },
      "execution_count": null,
      "outputs": []
    },
    {
      "cell_type": "code",
      "source": [
        "# Define the DP-SGD optimizer and the loss function\n",
        "optimizer = tfp.DPKerasSGDOptimizer(\n",
        "    l2_norm_clip=L2_NORM_CLIP,\n",
        "    noise_multiplier=NOISE_MULTIPLIER,\n",
        "    num_microbatches=NUM_MICROBATCHES,\n",
        "    learning_rate=LR\n",
        ")\n",
        "\n",
        "loss = tf.keras.losses.SparseCategoricalCrossentropy()\n",
        "metrics = [tf.keras.metrics.SparseCategoricalAccuracy()]"
      ],
      "metadata": {
        "id": "qMPkK049GLyu"
      },
      "execution_count": null,
      "outputs": []
    },
    {
      "cell_type": "code",
      "source": [
        "# Compile with the optimizer, loss and metrics and train the model in DP fashion\n",
        "model.compile(optimizer=optimizer, loss=loss, metrics=metrics)\n",
        "\n",
        "history = model.fit(\n",
        "    x=train_data,\n",
        "    y=train_labels,\n",
        "    batch_size=BATCH_SIZE,\n",
        "    epochs=EPOCHS,\n",
        ")"
      ],
      "metadata": {
        "id": "56Xuq2-QGqDI"
      },
      "execution_count": null,
      "outputs": []
    },
    {
      "cell_type": "code",
      "source": [
        "# Evaluate the DP-SGD model\n",
        "model.evaluate(x=test_data, y=test_labels)"
      ],
      "metadata": {
        "id": "FIjVxf7RH-Pp"
      },
      "execution_count": null,
      "outputs": []
    },
    {
      "cell_type": "code",
      "source": [
        "# Compute the differential privacy guarantees of our model\n",
        "print(tfp.privacy.analysis.compute_dp_sgd_privacy_lib.compute_dp_sgd_privacy_statement(\n",
        "  number_of_examples=train_data.shape[0],\n",
        "  batch_size=BATCH_SIZE,\n",
        "  num_epochs=EPOCHS,\n",
        "  noise_multiplier=NOISE_MULTIPLIER,\n",
        "  delta=1e-5\n",
        "))"
      ],
      "metadata": {
        "id": "TnCXhAQ0Qv8C"
      },
      "execution_count": null,
      "outputs": []
    },
    {
      "cell_type": "code",
      "source": [],
      "metadata": {
        "id": "OuZ11AzoRRaV"
      },
      "execution_count": null,
      "outputs": []
    }
  ]
}